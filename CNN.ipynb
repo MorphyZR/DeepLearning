{
 "cells": [
  {
   "cell_type": "code",
   "execution_count": 1,
   "metadata": {},
   "outputs": [],
   "source": [
    "import numpy as np\n",
    "import tensorflow as tf\n",
    "\n",
    "from src.base.SimpleCNN import SimpleCNN\n",
    "from src.common.layer import Affine, Relu, Convolution, Pooling, SoftmaxWithLoss\n",
    "from src.common.functions import change_to_one_hot\n",
    "from src.common.optimizer import Adam"
   ]
  },
  {
   "cell_type": "markdown",
   "metadata": {},
   "source": [
    "# 1. load mnist data"
   ]
  },
  {
   "cell_type": "code",
   "execution_count": 2,
   "metadata": {},
   "outputs": [],
   "source": [
    "(train_img, train_labels), (test_img, test_labels) = tf.keras.datasets.mnist.load_data()\n",
    "# normalization\n",
    "train_img = train_img / 255.0\n",
    "test_img = test_img / 255.0\n",
    "# reshape\n",
    "train_img = train_img.reshape(-1, 1, 28, 28)\n",
    "test_img = test_img.reshape(-1, 1, 28, 28)\n",
    "# one-hot vector\n",
    "train_labels = change_to_one_hot(train_labels, 10)\n",
    "test_labels = change_to_one_hot(test_labels, 10)"
   ]
  },
  {
   "cell_type": "code",
   "execution_count": 3,
   "metadata": {},
   "outputs": [
    {
     "data": {
      "text/plain": [
       "(60000, 1, 28, 28)"
      ]
     },
     "execution_count": 3,
     "metadata": {},
     "output_type": "execute_result"
    }
   ],
   "source": [
    "train_img.shape"
   ]
  },
  {
   "cell_type": "markdown",
   "metadata": {},
   "source": [
    "# 2. hyperparam"
   ]
  },
  {
   "cell_type": "code",
   "execution_count": 4,
   "metadata": {},
   "outputs": [],
   "source": [
    "iter_num = 10000\n",
    "train_size = train_img.shape[0]\n",
    "batch_size = 100\n",
    "lr = 0.001\n",
    "stride = 1\n",
    "pad = 1\n",
    "epoch = train_size // batch_size\n",
    "\n",
    "# initial network\n",
    "network = SimpleCNN(input_dim=(1,28,28), \n",
    "                        conv_param = {'filter_num': 30, 'filter_size': 5, 'pad': 0, 'stride': 1},\n",
    "                        hidden_size=100, output_size=10, weight_init_std=0.01)\n",
    "optimizer = Adam(lr)\n",
    "loss_list = []\n",
    "train_acc_list = []\n",
    "test_acc_list = []\n"
   ]
  },
  {
   "cell_type": "code",
   "execution_count": null,
   "metadata": {},
   "outputs": [
    {
     "name": "stdout",
     "output_type": "stream",
     "text": [
      "> /Users/morphy/Repo/DeepLearning/src/common/layer.py(68)forward()\n",
      "-> out = np.dot(self.x, self.w) + self.b\n",
      "(Pdb) self.x.shape\n",
      "(100, 120)\n",
      "(Pdb) self.w.shape\n",
      "(4320, 100)\n",
      "(Pdb) self.original_x_shape\n",
      "(100, 30, 2, 2)\n"
     ]
    }
   ],
   "source": [
    "for i in range(iter_num):\n",
    "    print(i, end='\\r')\n",
    "    batch_mask = np.random.choice(np.arange(train_size), batch_size)\n",
    "    batch_img = train_img[batch_mask]\n",
    "    batch_labels = train_labels[batch_mask]\n",
    "    \n",
    "    grads = network.gradient(batch_img, batch_labels)\n",
    "    optimizer.update(network.params, grads)\n",
    "    \n",
    "    if i%epoch == 0:\n",
    "        train_acc = network.accuracy(train_img, train_labels)\n",
    "        test_acc = network.accuracy(test_img, test_labels)\n",
    "        loss = network.loss(batch_img, batch_labels)\n",
    "        print(f'iter:{i} \\t loss:{round(loss, 4)} \\t train_acc:{round(train_acc, 4)} \\t test_acc:{round(test_acc, 4)}')\n",
    "    "
   ]
  },
  {
   "cell_type": "code",
   "execution_count": null,
   "metadata": {},
   "outputs": [],
   "source": []
  }
 ],
 "metadata": {
  "kernelspec": {
   "display_name": "Python 3",
   "language": "python",
   "name": "python3"
  },
  "language_info": {
   "codemirror_mode": {
    "name": "ipython",
    "version": 3
   },
   "file_extension": ".py",
   "mimetype": "text/x-python",
   "name": "python",
   "nbconvert_exporter": "python",
   "pygments_lexer": "ipython3",
   "version": "3.7.3"
  }
 },
 "nbformat": 4,
 "nbformat_minor": 2
}
